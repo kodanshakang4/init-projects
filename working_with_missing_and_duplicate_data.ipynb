{
 "cells": [
  {
   "cell_type": "code",
   "execution_count": 2,
   "metadata": {},
   "outputs": [],
   "source": [
    "import pandas as pd\n",
    "\n",
    "happiness2015 = pd.read_csv(\"C:/Users/Stephen/Google Drive/Dataq/dq_datasets/World_Happiness_2015.csv\")\n",
    "happiness2016 = pd.read_csv(\"C:/Users/Stephen/Google Drive/Dataq/dq_datasets/World_Happiness_2016.csv\")\n",
    "happiness2017 = pd.read_csv(\"C:/Users/Stephen/Google Drive/Dataq/dq_datasets/World_Happiness_2017.csv\")"
   ]
  },
  {
   "cell_type": "code",
   "execution_count": null,
   "metadata": {},
   "outputs": [],
   "source": []
  }
 ],
 "metadata": {
  "kernelspec": {
   "display_name": "Python 3",
   "language": "python",
   "name": "python3"
  },
  "language_info": {
   "codemirror_mode": {
    "name": "ipython",
    "version": 3
   },
   "file_extension": ".py",
   "mimetype": "text/x-python",
   "name": "python",
   "nbconvert_exporter": "python",
   "pygments_lexer": "ipython3",
   "version": "3.7.1"
  }
 },
 "nbformat": 4,
 "nbformat_minor": 2
}
