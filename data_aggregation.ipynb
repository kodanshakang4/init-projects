{
 "cells": [
  {
   "cell_type": "code",
   "execution_count": 1,
   "metadata": {
    "scrolled": true
   },
   "outputs": [
    {
     "name": "stdout",
     "output_type": "stream",
     "text": [
      "<class 'pandas.core.frame.DataFrame'>\n",
      "RangeIndex: 158 entries, 0 to 157\n",
      "Data columns (total 12 columns):\n",
      "Country                          158 non-null object\n",
      "Region                           158 non-null object\n",
      "Happiness Rank                   158 non-null int64\n",
      "Happiness Score                  158 non-null float64\n",
      "Standard Error                   158 non-null float64\n",
      "Economy (GDP per Capita)         158 non-null float64\n",
      "Family                           158 non-null float64\n",
      "Health (Life Expectancy)         158 non-null float64\n",
      "Freedom                          158 non-null float64\n",
      "Trust (Government Corruption)    158 non-null float64\n",
      "Generosity                       158 non-null float64\n",
      "Dystopia Residual                158 non-null float64\n",
      "dtypes: float64(9), int64(1), object(2)\n",
      "memory usage: 14.9+ KB\n",
      "None\n",
      "       Country          Region  Happiness Rank  Happiness Score  \\\n",
      "0  Switzerland  Western Europe               1            7.587   \n",
      "1      Iceland  Western Europe               2            7.561   \n",
      "2      Denmark  Western Europe               3            7.527   \n",
      "3       Norway  Western Europe               4            7.522   \n",
      "4       Canada   North America               5            7.427   \n",
      "\n",
      "   Standard Error  Economy (GDP per Capita)   Family  \\\n",
      "0         0.03411                   1.39651  1.34951   \n",
      "1         0.04884                   1.30232  1.40223   \n",
      "2         0.03328                   1.32548  1.36058   \n",
      "3         0.03880                   1.45900  1.33095   \n",
      "4         0.03553                   1.32629  1.32261   \n",
      "\n",
      "   Health (Life Expectancy)  Freedom  Trust (Government Corruption)  \\\n",
      "0                   0.94143  0.66557                        0.41978   \n",
      "1                   0.94784  0.62877                        0.14145   \n",
      "2                   0.87464  0.64938                        0.48357   \n",
      "3                   0.88521  0.66973                        0.36503   \n",
      "4                   0.90563  0.63297                        0.32957   \n",
      "\n",
      "   Generosity  Dystopia Residual  \n",
      "0     0.29678            2.51738  \n",
      "1     0.43630            2.70201  \n",
      "2     0.34139            2.49204  \n",
      "3     0.34699            2.46531  \n",
      "4     0.45811            2.45176  \n"
     ]
    }
   ],
   "source": [
    "import pandas as pd\n",
    "happiness2015 = pd.read_csv('C:/Users/Stephen/Google Drive/Dataq/dq_datasets/World_Happiness_2015.csv')\n",
    "\n",
    "info = happiness2015.info()\n",
    "first_5 = happiness2015.head(5)\n",
    "print(info)\n",
    "print(first_5)"
   ]
  },
  {
   "cell_type": "code",
   "execution_count": 2,
   "metadata": {},
   "outputs": [
    {
     "data": {
      "text/plain": [
       "<matplotlib.axes._subplots.AxesSubplot at 0x1c95aa80f60>"
      ]
     },
     "execution_count": 2,
     "metadata": {},
     "output_type": "execute_result"
    }
   ],
   "source": [
    "happiness2015['Happiness Score'].plot(kind='bar', title='Happiness Scores', ylim=(0,10))"
   ]
  },
  {
   "cell_type": "code",
   "execution_count": 3,
   "metadata": {},
   "outputs": [
    {
     "data": {
      "text/plain": [
       "array(['Western Europe', 'North America', 'Australia and New Zealand',\n",
       "       'Middle East and Northern Africa', 'Latin America and Caribbean',\n",
       "       'Southeastern Asia', 'Central and Eastern Europe', 'Eastern Asia',\n",
       "       'Sub-Saharan Africa', 'Southern Asia'], dtype=object)"
      ]
     },
     "execution_count": 3,
     "metadata": {},
     "output_type": "execute_result"
    }
   ],
   "source": [
    "happiness2015['Region'].unique()"
   ]
  },
  {
   "cell_type": "code",
   "execution_count": 4,
   "metadata": {},
   "outputs": [
    {
     "data": {
      "text/plain": [
       "<matplotlib.axes._subplots.AxesSubplot at 0x1c95b18dda0>"
      ]
     },
     "execution_count": 4,
     "metadata": {},
     "output_type": "execute_result"
    },
    {
     "data": {
      "image/png": "[encoded data removed]",
      "text/plain": [
       "<Figure size 432x288 with 1 Axes>"
      ]
     },
     "metadata": {
      "needs_background": "light"
     },
     "output_type": "display_data"
    }
   ],
   "source": [
    "so_asia = happiness2015[happiness2015['Region'] == 'Southern Asia']\n",
    "so_asia.plot(x='Country', y='Happiness Score', kind='barh', title='Southern Asia Happiness Scores', xlim=(0,10))"
   ]
  },
  {
   "cell_type": "markdown",
   "metadata": {},
   "source": [
    "`Gropuby` datastructure"
   ]
  },
  {
   "cell_type": "code",
   "execution_count": 5,
   "metadata": {},
   "outputs": [
    {
     "name": "stdout",
     "output_type": "stream",
     "text": [
      "['Western Europe' 'North America' 'Australia and New Zealand'\n",
      " 'Middle East and Northern Africa' 'Latin America and Caribbean'\n",
      " 'Southeastern Asia' 'Central and Eastern Europe' 'Eastern Asia'\n",
      " 'Sub-Saharan Africa' 'Southern Asia']\n",
      "{'Western Europe': 6.689619047619048, 'North America': 7.273, 'Australia and New Zealand': 7.285, 'Middle East and Northern Africa': 5.406899999999999, 'Latin America and Caribbean': 6.144681818181818, 'Southeastern Asia': 5.317444444444445, 'Central and Eastern Europe': 5.332931034482758, 'Eastern Asia': 5.626166666666666, 'Sub-Saharan Africa': 4.202800000000001, 'Southern Asia': 4.580857142857143}\n"
     ]
    }
   ],
   "source": [
    "mean_happiness = {}\n",
    "regions = happiness2015['Region'].unique()\n",
    "print(regions)\n",
    "for r in regions:\n",
    "    #1 split the dataframe into groups\n",
    "    region_group = happiness2015[happiness2015['Region'] == r]\n",
    "    #2 apply a function to each group\n",
    "    region_mean = region_group['Happiness Score'].mean()\n",
    "    #3 combine the result into one data structure\n",
    "    mean_happiness[r] = region_mean\n",
    "    \n",
    "print(mean_happiness)"
   ]
  },
  {
   "cell_type": "code",
   "execution_count": 6,
   "metadata": {},
   "outputs": [
    {
     "data": {
      "text/html": [
       "<div>\n",
       "<style scoped>\n",
       "    .dataframe tbody tr th:only-of-type {\n",
       "        vertical-align: middle;\n",
       "    }\n",
       "\n",
       "    .dataframe tbody tr th {\n",
       "        vertical-align: top;\n",
       "    }\n",
       "\n",
       "    .dataframe thead th {\n",
       "        text-align: right;\n",
       "    }\n",
       "</style>\n",
       "<table border=\"1\" class=\"dataframe\">\n",
       "  <thead>\n",
       "    <tr style=\"text-align: right;\">\n",
       "      <th></th>\n",
       "      <th>Country</th>\n",
       "      <th>Region</th>\n",
       "      <th>Happiness Rank</th>\n",
       "      <th>Happiness Score</th>\n",
       "      <th>Standard Error</th>\n",
       "      <th>Economy (GDP per Capita)</th>\n",
       "      <th>Family</th>\n",
       "      <th>Health (Life Expectancy)</th>\n",
       "      <th>Freedom</th>\n",
       "      <th>Trust (Government Corruption)</th>\n",
       "      <th>Generosity</th>\n",
       "      <th>Dystopia Residual</th>\n",
       "    </tr>\n",
       "  </thead>\n",
       "  <tbody>\n",
       "    <tr>\n",
       "      <th>4</th>\n",
       "      <td>Canada</td>\n",
       "      <td>North America</td>\n",
       "      <td>5</td>\n",
       "      <td>7.427</td>\n",
       "      <td>0.03553</td>\n",
       "      <td>1.32629</td>\n",
       "      <td>1.32261</td>\n",
       "      <td>0.90563</td>\n",
       "      <td>0.63297</td>\n",
       "      <td>0.32957</td>\n",
       "      <td>0.45811</td>\n",
       "      <td>2.45176</td>\n",
       "    </tr>\n",
       "    <tr>\n",
       "      <th>14</th>\n",
       "      <td>United States</td>\n",
       "      <td>North America</td>\n",
       "      <td>15</td>\n",
       "      <td>7.119</td>\n",
       "      <td>0.03839</td>\n",
       "      <td>1.39451</td>\n",
       "      <td>1.24711</td>\n",
       "      <td>0.86179</td>\n",
       "      <td>0.54604</td>\n",
       "      <td>0.15890</td>\n",
       "      <td>0.40105</td>\n",
       "      <td>2.51011</td>\n",
       "    </tr>\n",
       "  </tbody>\n",
       "</table>\n",
       "</div>"
      ],
      "text/plain": [
       "          Country         Region  Happiness Rank  Happiness Score  \\\n",
       "4          Canada  North America               5            7.427   \n",
       "14  United States  North America              15            7.119   \n",
       "\n",
       "    Standard Error  Economy (GDP per Capita)   Family  \\\n",
       "4          0.03553                   1.32629  1.32261   \n",
       "14         0.03839                   1.39451  1.24711   \n",
       "\n",
       "    Health (Life Expectancy)  Freedom  Trust (Government Corruption)  \\\n",
       "4                    0.90563  0.63297                        0.32957   \n",
       "14                   0.86179  0.54604                        0.15890   \n",
       "\n",
       "    Generosity  Dystopia Residual  \n",
       "4      0.45811            2.45176  \n",
       "14     0.40105            2.51011  "
      ]
     },
     "execution_count": 6,
     "metadata": {},
     "output_type": "execute_result"
    }
   ],
   "source": [
    "happiness2015['Region'].value_counts()\n",
    "happiness2015.groupby('Region')\n",
    "\n",
    "grouped = happiness2015.groupby('Region')\n",
    "grouped.get_group('North America')"
   ]
  },
  {
   "cell_type": "code",
   "execution_count": 7,
   "metadata": {
    "scrolled": true
   },
   "outputs": [
    {
     "data": {
      "text/plain": [
       "{'Australia and New Zealand': Int64Index([8, 9], dtype='int64'),\n",
       " 'Central and Eastern Europe': Int64Index([ 30,  43,  44,  51,  53,  54,  55,  58,  59,  61,  63,  68,  69,\n",
       "              72,  76,  79,  82,  85,  86,  88,  92,  94,  95, 103, 105, 110,\n",
       "             126, 129, 133],\n",
       "            dtype='int64'),\n",
       " 'Eastern Asia': Int64Index([37, 45, 46, 71, 83, 99], dtype='int64'),\n",
       " 'Latin America and Caribbean': Int64Index([ 11,  13,  15,  22,  24,  26,  29,  31,  32,  39,  40,  41,  42,\n",
       "              47,  50,  52,  56,  57,  64,  97, 104, 118],\n",
       "            dtype='int64'),\n",
       " 'Middle East and Northern Africa': Int64Index([ 10,  19,  21,  27,  34,  38,  48,  62,  67,  75,  81,  91, 102,\n",
       "             106, 107, 109, 111, 134, 135, 155],\n",
       "            dtype='int64'),\n",
       " 'North America': Int64Index([4, 14], dtype='int64'),\n",
       " 'Southeastern Asia': Int64Index([23, 33, 60, 73, 74, 89, 98, 128, 144], dtype='int64'),\n",
       " 'Southern Asia': Int64Index([78, 80, 108, 116, 120, 131, 152], dtype='int64'),\n",
       " 'Sub-Saharan Africa': Int64Index([ 70,  77,  84,  90,  93,  96, 100, 112, 113, 114, 115, 117, 119,\n",
       "             121, 122, 123, 124, 125, 127, 130, 132, 136, 137, 138, 139, 140,\n",
       "             141, 142, 143, 145, 146, 147, 148, 149, 150, 151, 153, 154, 156,\n",
       "             157],\n",
       "            dtype='int64'),\n",
       " 'Western Europe': Int64Index([0, 1, 2, 3, 5, 6, 7, 12, 16, 17, 18, 20, 25, 28, 35, 36, 49, 65,\n",
       "             66, 87, 101],\n",
       "            dtype='int64')}"
      ]
     },
     "execution_count": 7,
     "metadata": {},
     "output_type": "execute_result"
    }
   ],
   "source": [
    "grouped.groups"
   ]
  },
  {
   "cell_type": "markdown",
   "metadata": {},
   "source": [
    "`north_america = happiness2015.iloc[[4,14]]` and `na_group = grouped.get_group('North America')` is same"
   ]
  },
  {
   "cell_type": "code",
   "execution_count": 8,
   "metadata": {
    "scrolled": true
   },
   "outputs": [
    {
     "name": "stdout",
     "output_type": "stream",
     "text": [
      "          Country         Region  Happiness Rank  Happiness Score  \\\n",
      "4          Canada  North America               5            7.427   \n",
      "14  United States  North America              15            7.119   \n",
      "\n",
      "    Standard Error  Economy (GDP per Capita)   Family  \\\n",
      "4          0.03553                   1.32629  1.32261   \n",
      "14         0.03839                   1.39451  1.24711   \n",
      "\n",
      "    Health (Life Expectancy)  Freedom  Trust (Government Corruption)  \\\n",
      "4                    0.90563  0.63297                        0.32957   \n",
      "14                   0.86179  0.54604                        0.15890   \n",
      "\n",
      "    Generosity  Dystopia Residual  \n",
      "4      0.45811            2.45176  \n",
      "14     0.40105            2.51011  \n",
      "          Country         Region  Happiness Rank  Happiness Score  \\\n",
      "4          Canada  North America               5            7.427   \n",
      "14  United States  North America              15            7.119   \n",
      "\n",
      "    Standard Error  Economy (GDP per Capita)   Family  \\\n",
      "4          0.03553                   1.32629  1.32261   \n",
      "14         0.03839                   1.39451  1.24711   \n",
      "\n",
      "    Health (Life Expectancy)  Freedom  Trust (Government Corruption)  \\\n",
      "4                    0.90563  0.63297                        0.32957   \n",
      "14                   0.86179  0.54604                        0.15890   \n",
      "\n",
      "    Generosity  Dystopia Residual  \n",
      "4      0.45811            2.45176  \n",
      "14     0.40105            2.51011  \n",
      "    Country  Region  Happiness Rank  Happiness Score  Standard Error  \\\n",
      "4      True    True            True             True            True   \n",
      "14     True    True            True             True            True   \n",
      "\n",
      "    Economy (GDP per Capita)  Family  Health (Life Expectancy)  Freedom  \\\n",
      "4                       True    True                      True     True   \n",
      "14                      True    True                      True     True   \n",
      "\n",
      "    Trust (Government Corruption)  Generosity  Dystopia Residual  \n",
      "4                            True        True               True  \n",
      "14                           True        True               True  \n"
     ]
    }
   ],
   "source": [
    "grouped = happiness2015.groupby('Region')\n",
    "north_america = happiness2015.iloc[[4,14]]\n",
    "print(north_america)\n",
    "na_group = grouped.get_group('North America')\n",
    "print(na_group)\n",
    "equal = north_america == na_group\n",
    "print(equal)"
   ]
  },
  {
   "cell_type": "code",
   "execution_count": 9,
   "metadata": {},
   "outputs": [
    {
     "data": {
      "text/plain": [
       "Region\n",
       "Australia and New Zealand           2\n",
       "Central and Eastern Europe         29\n",
       "Eastern Asia                        6\n",
       "Latin America and Caribbean        22\n",
       "Middle East and Northern Africa    20\n",
       "North America                       2\n",
       "Southeastern Asia                   9\n",
       "Southern Asia                       7\n",
       "Sub-Saharan Africa                 40\n",
       "Western Europe                     21\n",
       "dtype: int64"
      ]
     },
     "execution_count": 9,
     "metadata": {},
     "output_type": "execute_result"
    }
   ],
   "source": [
    "grouped = happiness2015.groupby('Region')\n",
    "grouped.size()"
   ]
  },
  {
   "cell_type": "code",
   "execution_count": 10,
   "metadata": {},
   "outputs": [
    {
     "data": {
      "text/plain": [
       "Region\n",
       "Australia and New Zealand          7.285000\n",
       "Central and Eastern Europe         5.332931\n",
       "Eastern Asia                       5.626167\n",
       "Latin America and Caribbean        6.144682\n",
       "Middle East and Northern Africa    5.406900\n",
       "North America                      7.273000\n",
       "Southeastern Asia                  5.317444\n",
       "Southern Asia                      4.580857\n",
       "Sub-Saharan Africa                 4.202800\n",
       "Western Europe                     6.689619\n",
       "Name: Happiness Score, dtype: float64"
      ]
     },
     "execution_count": 10,
     "metadata": {},
     "output_type": "execute_result"
    }
   ],
   "source": [
    "grouped = happiness2015.groupby('Region')\n",
    "happy_grouped = grouped['Happiness Score']\n",
    "happy_mean = happy_grouped.mean()\n",
    "happy_mean\n"
   ]
  },
  {
   "cell_type": "markdown",
   "metadata": {},
   "source": [
    "`groupby.agg()` method cand perform both aggregation at once."
   ]
  },
  {
   "cell_type": "code",
   "execution_count": 11,
   "metadata": {},
   "outputs": [
    {
     "name": "stdout",
     "output_type": "stream",
     "text": [
      "                                     mean   amax\n",
      "Region                                          \n",
      "Australia and New Zealand        7.285000  7.286\n",
      "Central and Eastern Europe       5.332931  6.505\n",
      "Eastern Asia                     5.626167  6.298\n",
      "Latin America and Caribbean      6.144682  7.226\n",
      "Middle East and Northern Africa  5.406900  7.278\n",
      "North America                    7.273000  7.427\n",
      "Southeastern Asia                5.317444  6.798\n",
      "Southern Asia                    4.580857  5.253\n",
      "Sub-Saharan Africa               4.202800  5.477\n",
      "Western Europe                   6.689619  7.587\n",
      "Region\n",
      "Australia and New Zealand          0.001000\n",
      "Central and Eastern Europe         1.172069\n",
      "Eastern Asia                       0.671833\n",
      "Latin America and Caribbean        1.081318\n",
      "Middle East and Northern Africa    1.871100\n",
      "North America                      0.154000\n",
      "Southeastern Asia                  1.480556\n",
      "Southern Asia                      0.672143\n",
      "Sub-Saharan Africa                 1.274200\n",
      "Western Europe                     0.897381\n",
      "Name: Happiness Score, dtype: float64\n"
     ]
    }
   ],
   "source": [
    "import numpy as np\n",
    "grouped = happiness2015.groupby('Region')\n",
    "happy_grouped = grouped['Happiness Score']\n",
    "def dif(group):\n",
    "    return (group.max() - group.mean())\n",
    "\n",
    "happy_mean_max = happy_grouped.agg([np.mean, np.max])\n",
    "happy_max_dif = happy_grouped.agg(dif)\n",
    "print(happy_mean_max)\n",
    "print(happy_max_dif)"
   ]
  },
  {
   "cell_type": "code",
   "execution_count": 12,
   "metadata": {},
   "outputs": [
    {
     "name": "stdout",
     "output_type": "stream",
     "text": [
      "Region\n",
      "Australia and New Zealand          7.285000\n",
      "Central and Eastern Europe         5.332931\n",
      "Eastern Asia                       5.626167\n",
      "Latin America and Caribbean        6.144682\n",
      "Middle East and Northern Africa    5.406900\n",
      "North America                      7.273000\n",
      "Southeastern Asia                  5.317444\n",
      "Southern Asia                      4.580857\n",
      "Sub-Saharan Africa                 4.202800\n",
      "Western Europe                     6.689619\n",
      "Name: Happiness Score, dtype: float64\n"
     ]
    }
   ],
   "source": [
    "happiness_means = happiness2015.groupby('Region')['Happiness Score'].mean()\n",
    "\n",
    "print(happiness_means)"
   ]
  },
  {
   "cell_type": "code",
   "execution_count": 13,
   "metadata": {},
   "outputs": [
    {
     "name": "stdout",
     "output_type": "stream",
     "text": [
      "                                 Happiness Score\n",
      "Region                                          \n",
      "Australia and New Zealand               7.285000\n",
      "Central and Eastern Europe              5.332931\n",
      "Eastern Asia                            5.626167\n",
      "Latin America and Caribbean             6.144682\n",
      "Middle East and Northern Africa         5.406900\n",
      "North America                           7.273000\n",
      "Southeastern Asia                       5.317444\n",
      "Southern Asia                           4.580857\n",
      "Sub-Saharan Africa                      4.202800\n",
      "Western Europe                          6.689619\n",
      "All                                     5.375734\n"
     ]
    }
   ],
   "source": [
    "pv_happiness = happiness2015.pivot_table(values='Happiness Score'\n",
    "                                         , index='Region', aggfunc=np.mean, margins=True)\n",
    "print(pv_happiness)"
   ]
  },
  {
   "cell_type": "code",
   "execution_count": 14,
   "metadata": {},
   "outputs": [
    {
     "name": "stdout",
     "output_type": "stream",
     "text": [
      "5.3757341772151905\n"
     ]
    },
    {
     "data": {
      "image/png": "[encoded data removed]",
      "text/plain": [
       "<Figure size 432x288 with 1 Axes>"
      ]
     },
     "metadata": {
      "needs_background": "light"
     },
     "output_type": "display_data"
    }
   ],
   "source": [
    "pv_happiness = happiness2015.pivot_table(values='Happiness Score', index='Region', aggfunc=np.mean, margins=True)\n",
    "\n",
    "# pv_happiness = happiness2015.pivot_table('Happiness Score', 'Region')\n",
    "pv_happiness.plot(kind='barh', title='Mean Happiness Scores by Region', xlim=(0,10), legend=False)\n",
    "\n",
    "world_mean_happiness = happiness2015['Happiness Score'].mean()\n",
    "print(world_mean_happiness)"
   ]
  },
  {
   "cell_type": "code",
   "execution_count": 15,
   "metadata": {},
   "outputs": [
    {
     "data": {
      "text/html": [
       "<div>\n",
       "<style scoped>\n",
       "    .dataframe tbody tr th:only-of-type {\n",
       "        vertical-align: middle;\n",
       "    }\n",
       "\n",
       "    .dataframe tbody tr th {\n",
       "        vertical-align: top;\n",
       "    }\n",
       "\n",
       "    .dataframe thead th {\n",
       "        text-align: right;\n",
       "    }\n",
       "</style>\n",
       "<table border=\"1\" class=\"dataframe\">\n",
       "  <thead>\n",
       "    <tr style=\"text-align: right;\">\n",
       "      <th></th>\n",
       "      <th>Family</th>\n",
       "      <th>Happiness Score</th>\n",
       "    </tr>\n",
       "    <tr>\n",
       "      <th>Region</th>\n",
       "      <th></th>\n",
       "      <th></th>\n",
       "    </tr>\n",
       "  </thead>\n",
       "  <tbody>\n",
       "    <tr>\n",
       "      <th>Australia and New Zealand</th>\n",
       "      <td>1.314450</td>\n",
       "      <td>7.285000</td>\n",
       "    </tr>\n",
       "    <tr>\n",
       "      <th>Central and Eastern Europe</th>\n",
       "      <td>1.053042</td>\n",
       "      <td>5.332931</td>\n",
       "    </tr>\n",
       "    <tr>\n",
       "      <th>Eastern Asia</th>\n",
       "      <td>1.099427</td>\n",
       "      <td>5.626167</td>\n",
       "    </tr>\n",
       "    <tr>\n",
       "      <th>Latin America and Caribbean</th>\n",
       "      <td>1.104720</td>\n",
       "      <td>6.144682</td>\n",
       "    </tr>\n",
       "    <tr>\n",
       "      <th>Middle East and Northern Africa</th>\n",
       "      <td>0.920490</td>\n",
       "      <td>5.406900</td>\n",
       "    </tr>\n",
       "    <tr>\n",
       "      <th>North America</th>\n",
       "      <td>1.284860</td>\n",
       "      <td>7.273000</td>\n",
       "    </tr>\n",
       "    <tr>\n",
       "      <th>Southeastern Asia</th>\n",
       "      <td>0.940468</td>\n",
       "      <td>5.317444</td>\n",
       "    </tr>\n",
       "    <tr>\n",
       "      <th>Southern Asia</th>\n",
       "      <td>0.645321</td>\n",
       "      <td>4.580857</td>\n",
       "    </tr>\n",
       "    <tr>\n",
       "      <th>Sub-Saharan Africa</th>\n",
       "      <td>0.809085</td>\n",
       "      <td>4.202800</td>\n",
       "    </tr>\n",
       "    <tr>\n",
       "      <th>Western Europe</th>\n",
       "      <td>1.247302</td>\n",
       "      <td>6.689619</td>\n",
       "    </tr>\n",
       "  </tbody>\n",
       "</table>\n",
       "</div>"
      ],
      "text/plain": [
       "                                   Family  Happiness Score\n",
       "Region                                                    \n",
       "Australia and New Zealand        1.314450         7.285000\n",
       "Central and Eastern Europe       1.053042         5.332931\n",
       "Eastern Asia                     1.099427         5.626167\n",
       "Latin America and Caribbean      1.104720         6.144682\n",
       "Middle East and Northern Africa  0.920490         5.406900\n",
       "North America                    1.284860         7.273000\n",
       "Southeastern Asia                0.940468         5.317444\n",
       "Southern Asia                    0.645321         4.580857\n",
       "Sub-Saharan Africa               0.809085         4.202800\n",
       "Western Europe                   1.247302         6.689619"
      ]
     },
     "execution_count": 15,
     "metadata": {},
     "output_type": "execute_result"
    }
   ],
   "source": [
    "happiness2015.pivot_table(['Happiness Score', 'Family'], 'Region')"
   ]
  },
  {
   "cell_type": "markdown",
   "metadata": {},
   "source": [
    "to add `aggfunction` to apply multiple function"
   ]
  },
  {
   "cell_type": "code",
   "execution_count": 16,
   "metadata": {},
   "outputs": [
    {
     "data": {
      "text/html": [
       "<div>\n",
       "<style scoped>\n",
       "    .dataframe tbody tr th:only-of-type {\n",
       "        vertical-align: middle;\n",
       "    }\n",
       "\n",
       "    .dataframe tbody tr th {\n",
       "        vertical-align: top;\n",
       "    }\n",
       "\n",
       "    .dataframe thead tr th {\n",
       "        text-align: left;\n",
       "    }\n",
       "\n",
       "    .dataframe thead tr:last-of-type th {\n",
       "        text-align: right;\n",
       "    }\n",
       "</style>\n",
       "<table border=\"1\" class=\"dataframe\">\n",
       "  <thead>\n",
       "    <tr>\n",
       "      <th></th>\n",
       "      <th colspan=\"2\" halign=\"left\">mean</th>\n",
       "      <th colspan=\"2\" halign=\"left\">amin</th>\n",
       "      <th colspan=\"2\" halign=\"left\">amax</th>\n",
       "    </tr>\n",
       "    <tr>\n",
       "      <th></th>\n",
       "      <th>Family</th>\n",
       "      <th>Happiness Score</th>\n",
       "      <th>Family</th>\n",
       "      <th>Happiness Score</th>\n",
       "      <th>Family</th>\n",
       "      <th>Happiness Score</th>\n",
       "    </tr>\n",
       "    <tr>\n",
       "      <th>Region</th>\n",
       "      <th></th>\n",
       "      <th></th>\n",
       "      <th></th>\n",
       "      <th></th>\n",
       "      <th></th>\n",
       "      <th></th>\n",
       "    </tr>\n",
       "  </thead>\n",
       "  <tbody>\n",
       "    <tr>\n",
       "      <th>Australia and New Zealand</th>\n",
       "      <td>1.314450</td>\n",
       "      <td>7.285000</td>\n",
       "      <td>1.30923</td>\n",
       "      <td>7.284</td>\n",
       "      <td>1.31967</td>\n",
       "      <td>7.286</td>\n",
       "    </tr>\n",
       "    <tr>\n",
       "      <th>Central and Eastern Europe</th>\n",
       "      <td>1.053042</td>\n",
       "      <td>5.332931</td>\n",
       "      <td>0.38562</td>\n",
       "      <td>4.218</td>\n",
       "      <td>1.34043</td>\n",
       "      <td>6.505</td>\n",
       "    </tr>\n",
       "    <tr>\n",
       "      <th>Eastern Asia</th>\n",
       "      <td>1.099427</td>\n",
       "      <td>5.626167</td>\n",
       "      <td>0.94675</td>\n",
       "      <td>4.874</td>\n",
       "      <td>1.30060</td>\n",
       "      <td>6.298</td>\n",
       "    </tr>\n",
       "    <tr>\n",
       "      <th>Latin America and Caribbean</th>\n",
       "      <td>1.104720</td>\n",
       "      <td>6.144682</td>\n",
       "      <td>0.74302</td>\n",
       "      <td>4.518</td>\n",
       "      <td>1.30477</td>\n",
       "      <td>7.226</td>\n",
       "    </tr>\n",
       "    <tr>\n",
       "      <th>Middle East and Northern Africa</th>\n",
       "      <td>0.920490</td>\n",
       "      <td>5.406900</td>\n",
       "      <td>0.47489</td>\n",
       "      <td>3.006</td>\n",
       "      <td>1.22393</td>\n",
       "      <td>7.278</td>\n",
       "    </tr>\n",
       "    <tr>\n",
       "      <th>North America</th>\n",
       "      <td>1.284860</td>\n",
       "      <td>7.273000</td>\n",
       "      <td>1.24711</td>\n",
       "      <td>7.119</td>\n",
       "      <td>1.32261</td>\n",
       "      <td>7.427</td>\n",
       "    </tr>\n",
       "    <tr>\n",
       "      <th>Southeastern Asia</th>\n",
       "      <td>0.940468</td>\n",
       "      <td>5.317444</td>\n",
       "      <td>0.62736</td>\n",
       "      <td>3.819</td>\n",
       "      <td>1.26504</td>\n",
       "      <td>6.798</td>\n",
       "    </tr>\n",
       "    <tr>\n",
       "      <th>Southern Asia</th>\n",
       "      <td>0.645321</td>\n",
       "      <td>4.580857</td>\n",
       "      <td>0.30285</td>\n",
       "      <td>3.575</td>\n",
       "      <td>1.10395</td>\n",
       "      <td>5.253</td>\n",
       "    </tr>\n",
       "    <tr>\n",
       "      <th>Sub-Saharan Africa</th>\n",
       "      <td>0.809085</td>\n",
       "      <td>4.202800</td>\n",
       "      <td>0.00000</td>\n",
       "      <td>2.839</td>\n",
       "      <td>1.18468</td>\n",
       "      <td>5.477</td>\n",
       "    </tr>\n",
       "    <tr>\n",
       "      <th>Western Europe</th>\n",
       "      <td>1.247302</td>\n",
       "      <td>6.689619</td>\n",
       "      <td>0.89318</td>\n",
       "      <td>4.857</td>\n",
       "      <td>1.40223</td>\n",
       "      <td>7.587</td>\n",
       "    </tr>\n",
       "    <tr>\n",
       "      <th>All</th>\n",
       "      <td>0.991046</td>\n",
       "      <td>5.375734</td>\n",
       "      <td>0.00000</td>\n",
       "      <td>2.839</td>\n",
       "      <td>1.40223</td>\n",
       "      <td>7.587</td>\n",
       "    </tr>\n",
       "  </tbody>\n",
       "</table>\n",
       "</div>"
      ],
      "text/plain": [
       "                                     mean                     amin  \\\n",
       "                                   Family Happiness Score   Family   \n",
       "Region                                                               \n",
       "Australia and New Zealand        1.314450        7.285000  1.30923   \n",
       "Central and Eastern Europe       1.053042        5.332931  0.38562   \n",
       "Eastern Asia                     1.099427        5.626167  0.94675   \n",
       "Latin America and Caribbean      1.104720        6.144682  0.74302   \n",
       "Middle East and Northern Africa  0.920490        5.406900  0.47489   \n",
       "North America                    1.284860        7.273000  1.24711   \n",
       "Southeastern Asia                0.940468        5.317444  0.62736   \n",
       "Southern Asia                    0.645321        4.580857  0.30285   \n",
       "Sub-Saharan Africa               0.809085        4.202800  0.00000   \n",
       "Western Europe                   1.247302        6.689619  0.89318   \n",
       "All                              0.991046        5.375734  0.00000   \n",
       "\n",
       "                                                    amax                  \n",
       "                                Happiness Score   Family Happiness Score  \n",
       "Region                                                                    \n",
       "Australia and New Zealand                 7.284  1.31967           7.286  \n",
       "Central and Eastern Europe                4.218  1.34043           6.505  \n",
       "Eastern Asia                              4.874  1.30060           6.298  \n",
       "Latin America and Caribbean               4.518  1.30477           7.226  \n",
       "Middle East and Northern Africa           3.006  1.22393           7.278  \n",
       "North America                             7.119  1.32261           7.427  \n",
       "Southeastern Asia                         3.819  1.26504           6.798  \n",
       "Southern Asia                             3.575  1.10395           5.253  \n",
       "Sub-Saharan Africa                        2.839  1.18468           5.477  \n",
       "Western Europe                            4.857  1.40223           7.587  \n",
       "All                                       2.839  1.40223           7.587  "
      ]
     },
     "execution_count": 16,
     "metadata": {},
     "output_type": "execute_result"
    }
   ],
   "source": [
    "happiness2015.pivot_table(['Happiness Score', 'Family'], 'Region'\n",
    "                          , aggfunc=[np.mean, np.min, np.max], margins=True)"
   ]
  },
  {
   "cell_type": "code",
   "execution_count": 21,
   "metadata": {},
   "outputs": [
    {
     "name": "stdout",
     "output_type": "stream",
     "text": [
      "                                Happiness Score                    Family  \\\n",
      "                                           amin   amax      mean     amin   \n",
      "Region                                                                      \n",
      "Australia and New Zealand                 7.284  7.286  7.285000  1.30923   \n",
      "Central and Eastern Europe                4.218  6.505  5.332931  0.38562   \n",
      "Eastern Asia                              4.874  6.298  5.626167  0.94675   \n",
      "Latin America and Caribbean               4.518  7.226  6.144682  0.74302   \n",
      "Middle East and Northern Africa           3.006  7.278  5.406900  0.47489   \n",
      "North America                             7.119  7.427  7.273000  1.24711   \n",
      "Southeastern Asia                         3.819  6.798  5.317444  0.62736   \n",
      "Southern Asia                             3.575  5.253  4.580857  0.30285   \n",
      "Sub-Saharan Africa                        2.839  5.477  4.202800  0.00000   \n",
      "Western Europe                            4.857  7.587  6.689619  0.89318   \n",
      "\n",
      "                                                    \n",
      "                                    amax      mean  \n",
      "Region                                              \n",
      "Australia and New Zealand        1.31967  1.314450  \n",
      "Central and Eastern Europe       1.34043  1.053042  \n",
      "Eastern Asia                     1.30060  1.099427  \n",
      "Latin America and Caribbean      1.30477  1.104720  \n",
      "Middle East and Northern Africa  1.22393  0.920490  \n",
      "North America                    1.32261  1.284860  \n",
      "Southeastern Asia                1.26504  0.940468  \n",
      "Southern Asia                    1.10395  0.645321  \n",
      "Sub-Saharan Africa               1.18468  0.809085  \n",
      "Western Europe                   1.40223  1.247302  \n",
      "                                    amin                     amax  \\\n",
      "                                  Family Happiness Score   Family   \n",
      "Region                                                              \n",
      "Australia and New Zealand        1.30923           7.284  1.31967   \n",
      "Central and Eastern Europe       0.38562           4.218  1.34043   \n",
      "Eastern Asia                     0.94675           4.874  1.30060   \n",
      "Latin America and Caribbean      0.74302           4.518  1.30477   \n",
      "Middle East and Northern Africa  0.47489           3.006  1.22393   \n",
      "North America                    1.24711           7.119  1.32261   \n",
      "Southeastern Asia                0.62736           3.819  1.26504   \n",
      "Southern Asia                    0.30285           3.575  1.10395   \n",
      "Sub-Saharan Africa               0.00000           2.839  1.18468   \n",
      "Western Europe                   0.89318           4.857  1.40223   \n",
      "All                              0.00000           2.839  1.40223   \n",
      "\n",
      "                                                     mean                  \n",
      "                                Happiness Score    Family Happiness Score  \n",
      "Region                                                                     \n",
      "Australia and New Zealand                 7.286  1.314450        7.285000  \n",
      "Central and Eastern Europe                6.505  1.053042        5.332931  \n",
      "Eastern Asia                              6.298  1.099427        5.626167  \n",
      "Latin America and Caribbean               7.226  1.104720        6.144682  \n",
      "Middle East and Northern Africa           7.278  0.920490        5.406900  \n",
      "North America                             7.427  1.284860        7.273000  \n",
      "Southeastern Asia                         6.798  0.940468        5.317444  \n",
      "Southern Asia                             5.253  0.645321        4.580857  \n",
      "Sub-Saharan Africa                        5.477  0.809085        4.202800  \n",
      "Western Europe                            7.587  1.247302        6.689619  \n",
      "All                                       7.587  0.991046        5.375734  \n"
     ]
    }
   ],
   "source": [
    "grouped = happiness2015.groupby('Region')\n",
    "grouped = grouped['Happiness Score', 'Family']\n",
    "happy_family_stats = grouped.agg([np.min, np.max, np.mean])\n",
    "print(happy_family_stats)\n",
    "\n",
    "# use pivot_tatble to return same result\n",
    "pv_happy_family_stats = happiness2015.pivot_table(['Happiness Score','Family'], 'Region'\n",
    "                                                  , aggfunc=[np.min, np.max, np.mean], margins=True)\n",
    "print(pv_happy_family_stats)"
   ]
  }
 ],
 "metadata": {
  "kernelspec": {
   "display_name": "Python 3",
   "language": "python",
   "name": "python3"
  },
  "language_info": {
   "codemirror_mode": {
    "name": "ipython",
    "version": 3
   },
   "file_extension": ".py",
   "mimetype": "text/x-python",
   "name": "python",
   "nbconvert_exporter": "python",
   "pygments_lexer": "ipython3",
   "version": "3.7.1"
  }
 },
 "nbformat": 4,
 "nbformat_minor": 2
}
