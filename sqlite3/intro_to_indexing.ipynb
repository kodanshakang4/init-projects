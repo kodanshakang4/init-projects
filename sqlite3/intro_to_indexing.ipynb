{
 "cells": [
  {
   "cell_type": "code",
   "execution_count": 2,
   "metadata": {},
   "outputs": [],
   "source": [
    "import sqlite3\n",
    "conn = sqlite3.connect('factbook.db')"
   ]
  },
  {
   "cell_type": "code",
   "execution_count": 4,
   "metadata": {},
   "outputs": [
    {
     "name": "stdout",
     "output_type": "stream",
     "text": [
      "(0, 'id', 'INTEGER', 1, None, 1)\n",
      "(1, 'code', 'varchar(255)', 1, None, 0)\n",
      "(2, 'name', 'varchar(255)', 1, None, 0)\n",
      "(3, 'area', 'integer', 0, None, 0)\n",
      "(4, 'area_land', 'integer', 0, None, 0)\n",
      "(5, 'area_water', 'integer', 0, None, 0)\n",
      "(6, 'population', 'integer', 0, None, 0)\n",
      "(7, 'population_growth', 'float', 0, None, 0)\n",
      "(8, 'birth_rate', 'float', 0, None, 0)\n",
      "(9, 'death_rate', 'float', 0, None, 0)\n",
      "(10, 'migration_rate', 'float', 0, None, 0)\n",
      "(11, 'created_at', 'datetime', 0, None, 0)\n",
      "(12, 'updated_at', 'datetime', 0, None, 0)\n"
     ]
    }
   ],
   "source": [
    "schema = conn.execute('pragma table_info(facts);').fetchall()\n",
    "for s in schema:\n",
    "    print(s)"
   ]
  },
  {
   "cell_type": "code",
   "execution_count": 6,
   "metadata": {},
   "outputs": [
    {
     "name": "stdout",
     "output_type": "stream",
     "text": [
      "[(0, 0, 0, 'SCAN TABLE facts')]\n",
      "[(0, 0, 0, 'SCAN TABLE facts')]\n",
      "[(0, 0, 0, 'SCAN TABLE facts')]\n"
     ]
    }
   ],
   "source": [
    "query_plan_one = conn.execute('EXPLAIN query PLAN select * FROM facts WHERE area > 40000;').fetchall()\n",
    "query_plan_two = conn.execute('EXPLAIN query PLAN select area FROM facts WHERE area > 40000;').fetchall()\n",
    "query_plan_three = conn.execute(\"EXPLAIN query PLAN select * FROM facts WHERE name = 'Czech Republic';\").fetchall()\n",
    "print(query_plan_one)\n",
    "print(query_plan_two)\n",
    "print(query_plan_three)\n",
    "                                                                                                            "
   ]
  },
  {
   "cell_type": "code",
   "execution_count": 9,
   "metadata": {},
   "outputs": [
    {
     "name": "stdout",
     "output_type": "stream",
     "text": [
      "[(0, 0, 0, 'SEARCH TABLE facts USING INTEGER PRIMARY KEY (rowid=?)')]\n"
     ]
    }
   ],
   "source": [
    "query_plan_four = conn.execute('EXPLAIN query PLAN select * FROM facts WHERE id = 20;').fetchall()\n",
    "print(query_plan_four)"
   ]
  },
  {
   "cell_type": "code",
   "execution_count": 11,
   "metadata": {},
   "outputs": [
    {
     "name": "stdout",
     "output_type": "stream",
     "text": [
      "[(0, 0, 0, 'SCAN TABLE facts')]\n",
      "[(0, 0, 0, 'SEARCH TABLE facts USING INDEX pop_inx (population>?)')]\n"
     ]
    }
   ],
   "source": [
    "query_plan_six = conn.execute('EXPLAIN query PLAN select * FROM facts WHERE population > 10000;').fetchall()\n",
    "print(query_plan_five)\n",
    "conn.execute(\"create index if not exists pop_inx on facts(population)\").fetchall()\n",
    "query_plan_seven = conn.execute('EXPLAIN query PLAN select * FROM facts WHERE population > 10000;').fetchall()\n",
    "print(query_plan_seven)"
   ]
  }
 ],
 "metadata": {
  "kernelspec": {
   "display_name": "Python 3",
   "language": "python",
   "name": "python3"
  },
  "language_info": {
   "codemirror_mode": {
    "name": "ipython",
    "version": 3
   },
   "file_extension": ".py",
   "mimetype": "text/x-python",
   "name": "python",
   "nbconvert_exporter": "python",
   "pygments_lexer": "ipython3",
   "version": "3.7.1"
  }
 },
 "nbformat": 4,
 "nbformat_minor": 2
}
