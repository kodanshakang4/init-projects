{
 "cells": [
  {
   "cell_type": "code",
   "execution_count": 3,
   "metadata": {},
   "outputs": [
    {
     "name": "stdout",
     "output_type": "stream",
     "text": [
      "<class 'list'>\n"
     ]
    }
   ],
   "source": [
    "\n",
    "best_food_chains = ['Taco Bell', 'Shake Shack', 'Chipole']\n",
    "print(type(best_food_chains))\n",
    "\n",
    "import json"
   ]
  },
  {
   "cell_type": "code",
   "execution_count": 4,
   "metadata": {},
   "outputs": [
    {
     "name": "stdout",
     "output_type": "stream",
     "text": [
      "<class 'str'>\n"
     ]
    }
   ],
   "source": [
    "best_food_chains_string = json.dumps(best_food_chains)\n",
    "print(type(best_food_chains_string))"
   ]
  },
  {
   "cell_type": "code",
   "execution_count": 6,
   "metadata": {},
   "outputs": [
    {
     "name": "stdout",
     "output_type": "stream",
     "text": [
      "<class 'list'>\n"
     ]
    }
   ],
   "source": [
    "print(type(json.loads(best_food_chains_string)))"
   ]
  },
  {
   "cell_type": "code",
   "execution_count": 8,
   "metadata": {},
   "outputs": [
    {
     "name": "stdout",
     "output_type": "stream",
     "text": [
      "<class 'str'>\n"
     ]
    }
   ],
   "source": [
    "fast_food_franchise = {\n",
    "    'Subway': 24722,\n",
    "    'Mcdonals': 14098,\n",
    "    'Starbucks': 10821,\n",
    "    'Pizza Hut': 7600\n",
    "}\n",
    "\n",
    "fast_food_franchise_string = json.dumps(fast_food_franchise)\n",
    "print(type(fast_food_franchise_string))"
   ]
  },
  {
   "cell_type": "code",
   "execution_count": 9,
   "metadata": {},
   "outputs": [
    {
     "name": "stdout",
     "output_type": "stream",
     "text": [
      "<class 'dict'>\n"
     ]
    }
   ],
   "source": [
    "fast_food_franchise_2 = json.loads(fast_food_franchise_string)\n",
    "print(type(fast_food_franchise_2))"
   ]
  },
  {
   "cell_type": "code",
   "execution_count": 19,
   "metadata": {},
   "outputs": [
    {
     "name": "stdout",
     "output_type": "stream",
     "text": [
      "<class 'dict'>\n",
      "{'message': 'success', 'request': {'altitude': 100, 'datetime': 1556990300, 'latitude': 37.78, 'longitude': -122.41, 'passes': 5}, 'response': [{'duration': 462, 'risetime': 1557044501}, {'duration': 645, 'risetime': 1557050171}, {'duration': 574, 'risetime': 1557056024}, {'duration': 479, 'risetime': 1557061937}]}\n",
      "462\n"
     ]
    }
   ],
   "source": [
    "# Make the same request we did two screens ago.\n",
    "parameters = {\"lat\": 37.78, \"lon\": -122.41}\n",
    "response = requests.get(\"http://api.open-notify.org/iss-pass.json\", params=parameters)\n",
    "\n",
    "# Get the response data as a Python object.  Verify that it's a dictionary.\n",
    "json_data = response.json()\n",
    "print(type(json_data))\n",
    "print(json_data)\n",
    "\n",
    "first_pass_duration = json_data['response'][0]['duration']\n",
    "print(first_pass_duration)"
   ]
  },
  {
   "cell_type": "code",
   "execution_count": 21,
   "metadata": {},
   "outputs": [
    {
     "name": "stdout",
     "output_type": "stream",
     "text": [
      "{'Server': 'nginx/1.10.3', 'Date': 'Sat, 04 May 2019 17:22:21 GMT', 'Content-Type': 'application/json', 'Content-Length': '454', 'Connection': 'keep-alive', 'Via': '1.1 vegur'}\n",
      "application/json\n"
     ]
    }
   ],
   "source": [
    "print(response.headers)\n",
    "content_type = response.headers['content-type']\n",
    "print(content_type)"
   ]
  },
  {
   "cell_type": "code",
   "execution_count": 28,
   "metadata": {},
   "outputs": [
    {
     "name": "stdout",
     "output_type": "stream",
     "text": [
      "6\n",
      "[{'craft': 'ISS', 'name': 'Oleg Kononenko'}, {'craft': 'ISS', 'name': 'David Saint-Jacques'}, {'craft': 'ISS', 'name': 'Anne McClain'}, {'craft': 'ISS', 'name': 'Alexey Ovchinin'}, {'craft': 'ISS', 'name': 'Nick Hague'}, {'craft': 'ISS', 'name': 'Christina Koch'}]\n"
     ]
    }
   ],
   "source": [
    "# parameters = {\n",
    "#     'message': 'success',\n",
    "#     'number': NUMBER_OF_PEOPLE_IN_SPACE,\n",
    "#     'people': [\n",
    "#         {'name': NAME, 'craft': SPACECRAFC_NAME},\n",
    "#         ...\n",
    "#     ]\n",
    "# }\n",
    "response = requests.get('http://api.open-notify.org/astros.json')\n",
    "json_data = response.json()\n",
    "\n",
    "in_space_count = json_data['number']\n",
    "print(in_space_count)\n",
    "in_space_people = json_data['people']\n",
    "print(in_space_people)"
   ]
  },
  {
   "cell_type": "code",
   "execution_count": null,
   "metadata": {},
   "outputs": [],
   "source": []
  }
 ],
 "metadata": {
  "kernelspec": {
   "display_name": "Python 3",
   "language": "python",
   "name": "python3"
  },
  "language_info": {
   "codemirror_mode": {
    "name": "ipython",
    "version": 3
   },
   "file_extension": ".py",
   "mimetype": "text/x-python",
   "name": "python",
   "nbconvert_exporter": "python",
   "pygments_lexer": "ipython3",
   "version": "3.7.1"
  }
 },
 "nbformat": 4,
 "nbformat_minor": 2
}
