{
 "cells": [
  {
   "cell_type": "markdown",
   "metadata": {},
   "source": [
    "## Cleaning !\n",
    "\n",
    "- Using `Series.map(), Series.apply(), DataFrame.applymap(),DataFrame.apply(), pd.melt()`\n",
    "\n",
    "- in `rename(), inplace=True` returns None, `inplace=False` returns the object with operation performed"
   ]
  },
  {
   "cell_type": "code",
   "execution_count": 1,
   "metadata": {},
   "outputs": [],
   "source": [
    "import pandas as pd\n",
    "import numpy as np\n",
    "import matplotlib.pyplot as plt\n",
    "\n",
    "happiness2015 = pd.read_csv('C:/Users/Stephen/Google Drive/Dataq/dq_datasets/World_Happiness_2015.csv')\n",
    "happiness2016 = pd.read_csv('C:/Users/Stephen/Google Drive/Dataq/dq_datasets/World_Happiness_2016.csv')\n",
    "happiness2017 = pd.read_csv('C:/Users/Stephen/Google Drive/Dataq/dq_datasets/World_Happiness_2017.csv')\n",
    "# to rename it\n",
    "# happiness2015.info()\n",
    "happiness2015['Year'] = 2015\n",
    "happiness2016['Year'] = 2016\n",
    "happiness2017['Year'] = 2017\n",
    "\n",
    "mapping = {'Economy (GDP per Capita)': 'Economy', 'Health (Life Expectancy)': 'Health', 'Trust (Government Corruption)': 'Trust' }\n",
    "happiness2015 = happiness2015.rename(mapping, inplace=False, axis=1)\n",
    "\n"
   ]
  },
  {
   "cell_type": "markdown",
   "metadata": {},
   "source": [
    "- `Series.map(function_name), Series.apply(function_name)` method\n",
    "- take the function as parameter"
   ]
  },
  {
   "cell_type": "code",
   "execution_count": 2,
   "metadata": {},
   "outputs": [
    {
     "data": {
      "text/plain": [
       "True"
      ]
     },
     "execution_count": 2,
     "metadata": {},
     "output_type": "execute_result"
    }
   ],
   "source": [
    "def label(element):\n",
    "    if element > 1:\n",
    "        return 'High'\n",
    "    else:\n",
    "        return 'Low'\n",
    "\n",
    "# both map(), apply() pass the fuction as parameter     \n",
    "economy_impact_map = happiness2015['Economy'].map(label)\n",
    "economy_impact_apply = happiness2015['Economy'].apply(label)\n",
    "\n",
    "equal = economy_impact_map.equals(economy_impact_apply)\n",
    "equal"
   ]
  },
  {
   "cell_type": "markdown",
   "metadata": {},
   "source": [
    "- `Series.map(), Series.apply()` function don't modify the original series. if we want, we must assign the result back to the original column or create new column\n",
    "\n",
    "    - we pass argument `x` as the second parameter using `apply(label, x), map(label,x)` will get error"
   ]
  },
  {
   "cell_type": "code",
   "execution_count": 3,
   "metadata": {},
   "outputs": [],
   "source": [
    "def label(element):\n",
    "    if element > 1:\n",
    "        return 'High'\n",
    "    else:\n",
    "        return 'Low'\n",
    "# create new column 'Economy Impact'    \n",
    "happiness2015['Economy Impact'] = happiness2015['Economy'].apply(label)\n",
    "\n",
    "\n",
    "# check if we pass another argument named x\n",
    "def label(element, x):\n",
    "    if element > x:\n",
    "        return 'High'\n",
    "    else:\n",
    "        return 'Low'\n",
    "economy_impact_apply = happiness2015['Economy'].apply(label, x=0.8)"
   ]
  },
  {
   "cell_type": "markdown",
   "metadata": {},
   "source": [
    "- apply `DataFrame.applymap()` method\n",
    "- `DataFrame.applymap(function_name)`\n",
    "- `df.applymap()` can apply multiple column at once"
   ]
  },
  {
   "cell_type": "code",
   "execution_count": 15,
   "metadata": {
    "scrolled": true
   },
   "outputs": [
    {
     "name": "stdout",
     "output_type": "stream",
     "text": [
      "  Economy Family Health Freedom Trust Generosity\n",
      "0    High   High    Low     Low   Low        Low\n",
      "1    High   High    Low     Low   Low        Low\n",
      "2    High   High    Low     Low   Low        Low\n",
      "3    High   High    Low     Low   Low        Low\n",
      "4    High   High    Low     Low   Low        Low\n",
      "5    High   High    Low     Low   Low        Low\n",
      "6    High   High    Low     Low   Low        Low\n",
      "7    High   High    Low     Low   Low        Low\n",
      "8    High   High    Low     Low   Low        Low\n",
      "9    High   High    Low     Low   Low        Low\n"
     ]
    }
   ],
   "source": [
    "def label(element):\n",
    "    if element > 1:\n",
    "        return 'High'\n",
    "    else:\n",
    "        return 'Low'\n",
    "\n",
    "happiness2015['Economy Impact'] = happiness2015['Economy'].apply(label)\n",
    "happiness2015['Health Impact'] = happiness2015['Health'].apply(label)\n",
    "happiness2015['Family Impact'] = happiness2015['Family'].apply(label)\n",
    "\n",
    "# create list\n",
    "factors = ['Economy', 'Family', 'Health', 'Freedom', 'Trust', 'Generosity']\n",
    "factors_impact = happiness2015[factors].applymap(label)\n",
    "print(factors_impact.head(10))"
   ]
  },
  {
   "cell_type": "markdown",
   "metadata": {},
   "source": [
    "- `df.apply()` only applies column or row along a axis. we set it up to a series, most commonly a column\n",
    "- "
   ]
  },
  {
   "cell_type": "code",
   "execution_count": 14,
   "metadata": {
    "scrolled": true
   },
   "outputs": [
    {
     "data": {
      "text/html": [
       "<div>\n",
       "<style scoped>\n",
       "    .dataframe tbody tr th:only-of-type {\n",
       "        vertical-align: middle;\n",
       "    }\n",
       "\n",
       "    .dataframe tbody tr th {\n",
       "        vertical-align: top;\n",
       "    }\n",
       "\n",
       "    .dataframe thead th {\n",
       "        text-align: right;\n",
       "    }\n",
       "</style>\n",
       "<table border=\"1\" class=\"dataframe\">\n",
       "  <thead>\n",
       "    <tr style=\"text-align: right;\">\n",
       "      <th></th>\n",
       "      <th>Economy</th>\n",
       "      <th>Family</th>\n",
       "      <th>Health</th>\n",
       "      <th>Freedom</th>\n",
       "      <th>Trust</th>\n",
       "      <th>Generosity</th>\n",
       "    </tr>\n",
       "  </thead>\n",
       "  <tbody>\n",
       "    <tr>\n",
       "      <th>0</th>\n",
       "      <td>High</td>\n",
       "      <td>High</td>\n",
       "      <td>Low</td>\n",
       "      <td>Low</td>\n",
       "      <td>Low</td>\n",
       "      <td>Low</td>\n",
       "    </tr>\n",
       "    <tr>\n",
       "      <th>1</th>\n",
       "      <td>High</td>\n",
       "      <td>High</td>\n",
       "      <td>Low</td>\n",
       "      <td>Low</td>\n",
       "      <td>Low</td>\n",
       "      <td>Low</td>\n",
       "    </tr>\n",
       "    <tr>\n",
       "      <th>2</th>\n",
       "      <td>High</td>\n",
       "      <td>High</td>\n",
       "      <td>Low</td>\n",
       "      <td>Low</td>\n",
       "      <td>Low</td>\n",
       "      <td>Low</td>\n",
       "    </tr>\n",
       "    <tr>\n",
       "      <th>3</th>\n",
       "      <td>High</td>\n",
       "      <td>High</td>\n",
       "      <td>Low</td>\n",
       "      <td>Low</td>\n",
       "      <td>Low</td>\n",
       "      <td>Low</td>\n",
       "    </tr>\n",
       "    <tr>\n",
       "      <th>4</th>\n",
       "      <td>High</td>\n",
       "      <td>High</td>\n",
       "      <td>Low</td>\n",
       "      <td>Low</td>\n",
       "      <td>Low</td>\n",
       "      <td>Low</td>\n",
       "    </tr>\n",
       "  </tbody>\n",
       "</table>\n",
       "</div>"
      ],
      "text/plain": [
       "  Economy Family Health Freedom Trust Generosity\n",
       "0    High   High    Low     Low   Low        Low\n",
       "1    High   High    Low     Low   Low        Low\n",
       "2    High   High    Low     Low   Low        Low\n",
       "3    High   High    Low     Low   Low        Low\n",
       "4    High   High    Low     Low   Low        Low"
      ]
     },
     "execution_count": 14,
     "metadata": {},
     "output_type": "execute_result"
    }
   ],
   "source": [
    "factors_impact.apply(pd.value_counts)\n",
    "factors_impact.head()"
   ]
  },
  {
   "cell_type": "markdown",
   "metadata": {},
   "source": [
    "- `df.apply(v_counts)`\n",
    "- `v_counts(col)` counts each column\n",
    "- `col.value_counts` is `Series.value_counts` in this case, each column"
   ]
  },
  {
   "cell_type": "code",
   "execution_count": 6,
   "metadata": {},
   "outputs": [
    {
     "data": {
      "text/html": [
       "<div>\n",
       "<style scoped>\n",
       "    .dataframe tbody tr th:only-of-type {\n",
       "        vertical-align: middle;\n",
       "    }\n",
       "\n",
       "    .dataframe tbody tr th {\n",
       "        vertical-align: top;\n",
       "    }\n",
       "\n",
       "    .dataframe thead th {\n",
       "        text-align: right;\n",
       "    }\n",
       "</style>\n",
       "<table border=\"1\" class=\"dataframe\">\n",
       "  <thead>\n",
       "    <tr style=\"text-align: right;\">\n",
       "      <th></th>\n",
       "      <th>Economy</th>\n",
       "      <th>Family</th>\n",
       "      <th>Health</th>\n",
       "      <th>Freedom</th>\n",
       "      <th>Trust</th>\n",
       "      <th>Generosity</th>\n",
       "    </tr>\n",
       "  </thead>\n",
       "  <tbody>\n",
       "    <tr>\n",
       "      <th>High</th>\n",
       "      <td>0.417722</td>\n",
       "      <td>0.563291</td>\n",
       "      <td>0.012658</td>\n",
       "      <td>NaN</td>\n",
       "      <td>NaN</td>\n",
       "      <td>NaN</td>\n",
       "    </tr>\n",
       "    <tr>\n",
       "      <th>Low</th>\n",
       "      <td>0.582278</td>\n",
       "      <td>0.436709</td>\n",
       "      <td>0.987342</td>\n",
       "      <td>1.0</td>\n",
       "      <td>1.0</td>\n",
       "      <td>1.0</td>\n",
       "    </tr>\n",
       "  </tbody>\n",
       "</table>\n",
       "</div>"
      ],
      "text/plain": [
       "       Economy    Family    Health  Freedom  Trust  Generosity\n",
       "High  0.417722  0.563291  0.012658      NaN    NaN         NaN\n",
       "Low   0.582278  0.436709  0.987342      1.0    1.0         1.0"
      ]
     },
     "execution_count": 6,
     "metadata": {},
     "output_type": "execute_result"
    }
   ],
   "source": [
    "def v_counts(col):\n",
    "    num = col.value_counts()\n",
    "    den = col.size\n",
    "    return num / den\n",
    "\n",
    "v_counts_pct = factors_impact.apply(v_counts)\n",
    "v_counts_pct"
   ]
  },
  {
   "cell_type": "markdown",
   "metadata": {},
   "source": [
    "- Calculate the sum of the factor columns in each row"
   ]
  },
  {
   "cell_type": "code",
   "execution_count": 7,
   "metadata": {},
   "outputs": [
    {
     "data": {
      "text/html": [
       "<div>\n",
       "<style scoped>\n",
       "    .dataframe tbody tr th:only-of-type {\n",
       "        vertical-align: middle;\n",
       "    }\n",
       "\n",
       "    .dataframe tbody tr th {\n",
       "        vertical-align: top;\n",
       "    }\n",
       "\n",
       "    .dataframe thead th {\n",
       "        text-align: right;\n",
       "    }\n",
       "</style>\n",
       "<table border=\"1\" class=\"dataframe\">\n",
       "  <thead>\n",
       "    <tr style=\"text-align: right;\">\n",
       "      <th></th>\n",
       "      <th>Happiness Score</th>\n",
       "      <th>Factors Sum</th>\n",
       "    </tr>\n",
       "  </thead>\n",
       "  <tbody>\n",
       "    <tr>\n",
       "      <th>0</th>\n",
       "      <td>7.587</td>\n",
       "      <td>7.58696</td>\n",
       "    </tr>\n",
       "    <tr>\n",
       "      <th>1</th>\n",
       "      <td>7.561</td>\n",
       "      <td>7.56092</td>\n",
       "    </tr>\n",
       "    <tr>\n",
       "      <th>2</th>\n",
       "      <td>7.527</td>\n",
       "      <td>7.52708</td>\n",
       "    </tr>\n",
       "    <tr>\n",
       "      <th>3</th>\n",
       "      <td>7.522</td>\n",
       "      <td>7.52222</td>\n",
       "    </tr>\n",
       "    <tr>\n",
       "      <th>4</th>\n",
       "      <td>7.427</td>\n",
       "      <td>7.42694</td>\n",
       "    </tr>\n",
       "  </tbody>\n",
       "</table>\n",
       "</div>"
      ],
      "text/plain": [
       "   Happiness Score  Factors Sum\n",
       "0            7.587      7.58696\n",
       "1            7.561      7.56092\n",
       "2            7.527      7.52708\n",
       "3            7.522      7.52222\n",
       "4            7.427      7.42694"
      ]
     },
     "execution_count": 7,
     "metadata": {},
     "output_type": "execute_result"
    }
   ],
   "source": [
    "happiness2015['Factors Sum'] = happiness2015[['Economy', 'Family', 'Health'\n",
    "                                              , 'Freedom','Trust', 'Generosity'\n",
    "                                              , 'Dystopia Residual']]. sum(axis=1)\n",
    "happiness2015[['Happiness Score', 'Factors Sum']].head()"
   ]
  },
  {
   "cell_type": "code",
   "execution_count": 12,
   "metadata": {
    "scrolled": true
   },
   "outputs": [
    {
     "data": {
      "text/html": [
       "<div>\n",
       "<style scoped>\n",
       "    .dataframe tbody tr th:only-of-type {\n",
       "        vertical-align: middle;\n",
       "    }\n",
       "\n",
       "    .dataframe tbody tr th {\n",
       "        vertical-align: top;\n",
       "    }\n",
       "\n",
       "    .dataframe thead th {\n",
       "        text-align: right;\n",
       "    }\n",
       "</style>\n",
       "<table border=\"1\" class=\"dataframe\">\n",
       "  <thead>\n",
       "    <tr style=\"text-align: right;\">\n",
       "      <th></th>\n",
       "      <th>Economy</th>\n",
       "      <th>Family</th>\n",
       "      <th>Health</th>\n",
       "      <th>Freedom</th>\n",
       "      <th>Trust</th>\n",
       "      <th>Generosity</th>\n",
       "      <th>Dystopia Residual</th>\n",
       "    </tr>\n",
       "  </thead>\n",
       "  <tbody>\n",
       "    <tr>\n",
       "      <th>0</th>\n",
       "      <td>18.406617</td>\n",
       "      <td>17.787136</td>\n",
       "      <td>12.408462</td>\n",
       "      <td>8.772506</td>\n",
       "      <td>5.532885</td>\n",
       "      <td>3.911691</td>\n",
       "      <td>33.180177</td>\n",
       "    </tr>\n",
       "    <tr>\n",
       "      <th>1</th>\n",
       "      <td>17.224177</td>\n",
       "      <td>18.545563</td>\n",
       "      <td>12.535908</td>\n",
       "      <td>8.315963</td>\n",
       "      <td>1.870784</td>\n",
       "      <td>5.770401</td>\n",
       "      <td>35.736146</td>\n",
       "    </tr>\n",
       "    <tr>\n",
       "      <th>2</th>\n",
       "      <td>17.609672</td>\n",
       "      <td>18.075993</td>\n",
       "      <td>11.620035</td>\n",
       "      <td>8.627342</td>\n",
       "      <td>6.424472</td>\n",
       "      <td>4.535539</td>\n",
       "      <td>33.108011</td>\n",
       "    </tr>\n",
       "    <tr>\n",
       "      <th>3</th>\n",
       "      <td>19.396437</td>\n",
       "      <td>17.694097</td>\n",
       "      <td>11.768280</td>\n",
       "      <td>8.903616</td>\n",
       "      <td>4.852832</td>\n",
       "      <td>4.613002</td>\n",
       "      <td>32.774661</td>\n",
       "    </tr>\n",
       "    <tr>\n",
       "      <th>4</th>\n",
       "      <td>17.857681</td>\n",
       "      <td>17.808132</td>\n",
       "      <td>12.193753</td>\n",
       "      <td>8.522553</td>\n",
       "      <td>4.437458</td>\n",
       "      <td>6.168170</td>\n",
       "      <td>33.011445</td>\n",
       "    </tr>\n",
       "  </tbody>\n",
       "</table>\n",
       "</div>"
      ],
      "text/plain": [
       "     Economy     Family     Health   Freedom     Trust  Generosity  \\\n",
       "0  18.406617  17.787136  12.408462  8.772506  5.532885    3.911691   \n",
       "1  17.224177  18.545563  12.535908  8.315963  1.870784    5.770401   \n",
       "2  17.609672  18.075993  11.620035  8.627342  6.424472    4.535539   \n",
       "3  19.396437  17.694097  11.768280  8.903616  4.852832    4.613002   \n",
       "4  17.857681  17.808132  12.193753  8.522553  4.437458    6.168170   \n",
       "\n",
       "   Dystopia Residual  \n",
       "0          33.180177  \n",
       "1          35.736146  \n",
       "2          33.108011  \n",
       "3          32.774661  \n",
       "4          33.011445  "
      ]
     },
     "execution_count": 12,
     "metadata": {},
     "output_type": "execute_result"
    }
   ],
   "source": [
    "factors = ['Economy', 'Family', 'Health', 'Freedom', 'Trust', 'Generosity', 'Dystopia Residual']\n",
    "\n",
    "def percentages(col):\n",
    "    div = col / happiness2015['Happiness Score']\n",
    "    div = div * 100\n",
    "    return div\n",
    "factor_percentages = happiness2015[factors].apply(percentages)\n",
    "factor_percentages.head()"
   ]
  },
  {
   "cell_type": "markdown",
   "metadata": {},
   "source": [
    "- `pd.melt()` function\n",
    "- `pd.melt(df, id_vars=[col1, col2], value_vars=[col3, col4])` \n",
    "- col1, col2: names of the columns that should remain in the result\n",
    "- col3, col4: names of the columns should be changed to row in the result\n",
    "- reshaping the structure"
   ]
  },
  {
   "cell_type": "code",
   "execution_count": 13,
   "metadata": {
    "scrolled": true
   },
   "outputs": [
    {
     "data": {
      "text/html": [
       "<div>\n",
       "<style scoped>\n",
       "    .dataframe tbody tr th:only-of-type {\n",
       "        vertical-align: middle;\n",
       "    }\n",
       "\n",
       "    .dataframe tbody tr th {\n",
       "        vertical-align: top;\n",
       "    }\n",
       "\n",
       "    .dataframe thead th {\n",
       "        text-align: right;\n",
       "    }\n",
       "</style>\n",
       "<table border=\"1\" class=\"dataframe\">\n",
       "  <thead>\n",
       "    <tr style=\"text-align: right;\">\n",
       "      <th></th>\n",
       "      <th>Country</th>\n",
       "      <th>Region</th>\n",
       "      <th>Happiness Rank</th>\n",
       "      <th>Happiness Score</th>\n",
       "      <th>variable</th>\n",
       "      <th>value</th>\n",
       "      <th>Percentage</th>\n",
       "    </tr>\n",
       "  </thead>\n",
       "  <tbody>\n",
       "    <tr>\n",
       "      <th>0</th>\n",
       "      <td>Switzerland</td>\n",
       "      <td>Western Europe</td>\n",
       "      <td>1</td>\n",
       "      <td>7.587</td>\n",
       "      <td>Economy</td>\n",
       "      <td>1.39651</td>\n",
       "      <td>18.41</td>\n",
       "    </tr>\n",
       "    <tr>\n",
       "      <th>1</th>\n",
       "      <td>Iceland</td>\n",
       "      <td>Western Europe</td>\n",
       "      <td>2</td>\n",
       "      <td>7.561</td>\n",
       "      <td>Economy</td>\n",
       "      <td>1.30232</td>\n",
       "      <td>17.22</td>\n",
       "    </tr>\n",
       "    <tr>\n",
       "      <th>2</th>\n",
       "      <td>Denmark</td>\n",
       "      <td>Western Europe</td>\n",
       "      <td>3</td>\n",
       "      <td>7.527</td>\n",
       "      <td>Economy</td>\n",
       "      <td>1.32548</td>\n",
       "      <td>17.61</td>\n",
       "    </tr>\n",
       "    <tr>\n",
       "      <th>3</th>\n",
       "      <td>Norway</td>\n",
       "      <td>Western Europe</td>\n",
       "      <td>4</td>\n",
       "      <td>7.522</td>\n",
       "      <td>Economy</td>\n",
       "      <td>1.45900</td>\n",
       "      <td>19.40</td>\n",
       "    </tr>\n",
       "    <tr>\n",
       "      <th>4</th>\n",
       "      <td>Canada</td>\n",
       "      <td>North America</td>\n",
       "      <td>5</td>\n",
       "      <td>7.427</td>\n",
       "      <td>Economy</td>\n",
       "      <td>1.32629</td>\n",
       "      <td>17.86</td>\n",
       "    </tr>\n",
       "  </tbody>\n",
       "</table>\n",
       "</div>"
      ],
      "text/plain": [
       "       Country          Region  Happiness Rank  Happiness Score variable  \\\n",
       "0  Switzerland  Western Europe               1            7.587  Economy   \n",
       "1      Iceland  Western Europe               2            7.561  Economy   \n",
       "2      Denmark  Western Europe               3            7.527  Economy   \n",
       "3       Norway  Western Europe               4            7.522  Economy   \n",
       "4       Canada   North America               5            7.427  Economy   \n",
       "\n",
       "     value  Percentage  \n",
       "0  1.39651       18.41  \n",
       "1  1.30232       17.22  \n",
       "2  1.32548       17.61  \n",
       "3  1.45900       19.40  \n",
       "4  1.32629       17.86  "
      ]
     },
     "execution_count": 13,
     "metadata": {},
     "output_type": "execute_result"
    }
   ],
   "source": [
    "main_cols = ['Country', 'Region', 'Happiness Rank', 'Happiness Score']\n",
    "factors = ['Economy', 'Family', 'Health', 'Freedom', 'Trust', 'Generosity', 'Dystopia Residual']\n",
    "\n",
    "melt = pd.melt(happiness2015, id_vars=main_cols, value_vars=factors)\n",
    "# melt\n",
    "melt['Percentage'] = round(((melt['value'] / melt['Happiness Score']) * 100) ,2)\n",
    "melt.head()"
   ]
  },
  {
   "cell_type": "code",
   "execution_count": 10,
   "metadata": {},
   "outputs": [
    {
     "data": {
      "text/plain": [
       "<matplotlib.axes._subplots.AxesSubplot at 0x173f9fdcbe0>"
      ]
     },
     "execution_count": 10,
     "metadata": {},
     "output_type": "execute_result"
    },
    {
     "data": {
      "image/png": "[encoded data removed]",
      "text/plain": [
       "<Figure size 432x288 with 1 Axes>"
      ]
     },
     "metadata": {
      "needs_background": "light"
     },
     "output_type": "display_data"
    }
   ],
   "source": [
    "happiness2016 = pd.read_csv('C:/Users/Stephen/Google Drive/Dataq/dq_datasets/World_Happiness_2016.csv')\n",
    "happiness2017 = pd.read_csv('C:/Users/Stephen/Google Drive/Dataq/dq_datasets/World_Happiness_2017.csv')\n",
    "# to rename it\n",
    "# happiness2015.info()\n",
    "happiness2015['Year'] = 2015\n",
    "happiness2016['Year'] = 2016\n",
    "happiness2017['Year'] = 2017\n",
    "\n",
    "\n",
    "happiness2017.rename(columns={'Happiness.Score': 'Happiness Score'}, inplace=True)\n",
    "#Concatenate happiness2015, happiness2016, and happiness2017.\n",
    "combined = pd.concat([happiness2015, happiness2016, happiness2017], sort=False)\n",
    "\n",
    "#Create a pivot table lising the mean happiness score for each year. Since the default aggregation function is the mean, we excluded the `aggfunc` argument.\n",
    "pivot_table_combined = combined.pivot_table(index = 'Year'\n",
    "                                            , values = 'Happiness Score', aggfunc=np.mean)\n",
    "\n",
    "#Plot the pivot table.\n",
    "pivot_table_combined.plot(kind ='barh', title='Mean Happiness Scores by Year', xlim = (0,10))"
   ]
  },
  {
   "cell_type": "markdown",
   "metadata": {},
   "source": [
    "Let's reapeat the above insetad of `Year` we will group by `variable`"
   ]
  },
  {
   "cell_type": "code",
   "execution_count": 11,
   "metadata": {},
   "outputs": [
    {
     "data": {
      "text/html": [
       "<div>\n",
       "<style scoped>\n",
       "    .dataframe tbody tr th:only-of-type {\n",
       "        vertical-align: middle;\n",
       "    }\n",
       "\n",
       "    .dataframe tbody tr th {\n",
       "        vertical-align: top;\n",
       "    }\n",
       "\n",
       "    .dataframe thead th {\n",
       "        text-align: right;\n",
       "    }\n",
       "</style>\n",
       "<table border=\"1\" class=\"dataframe\">\n",
       "  <thead>\n",
       "    <tr style=\"text-align: right;\">\n",
       "      <th></th>\n",
       "      <th>value</th>\n",
       "    </tr>\n",
       "    <tr>\n",
       "      <th>variable</th>\n",
       "      <th></th>\n",
       "    </tr>\n",
       "  </thead>\n",
       "  <tbody>\n",
       "    <tr>\n",
       "      <th>Dystopia Residual</th>\n",
       "      <td>2.098977</td>\n",
       "    </tr>\n",
       "    <tr>\n",
       "      <th>Economy</th>\n",
       "      <td>0.846137</td>\n",
       "    </tr>\n",
       "    <tr>\n",
       "      <th>Family</th>\n",
       "      <td>0.991046</td>\n",
       "    </tr>\n",
       "    <tr>\n",
       "      <th>Freedom</th>\n",
       "      <td>0.428615</td>\n",
       "    </tr>\n",
       "    <tr>\n",
       "      <th>Generosity</th>\n",
       "      <td>0.237296</td>\n",
       "    </tr>\n",
       "    <tr>\n",
       "      <th>Health</th>\n",
       "      <td>0.630259</td>\n",
       "    </tr>\n",
       "    <tr>\n",
       "      <th>Trust</th>\n",
       "      <td>0.143422</td>\n",
       "    </tr>\n",
       "  </tbody>\n",
       "</table>\n",
       "</div>"
      ],
      "text/plain": [
       "                      value\n",
       "variable                   \n",
       "Dystopia Residual  2.098977\n",
       "Economy            0.846137\n",
       "Family             0.991046\n",
       "Freedom            0.428615\n",
       "Generosity         0.237296\n",
       "Health             0.630259\n",
       "Trust              0.143422"
      ]
     },
     "execution_count": 11,
     "metadata": {},
     "output_type": "execute_result"
    },
    {
     "data": {
      "image/png": "[encoded data removed]",
      "text/plain": [
       "<Figure size 432x288 with 1 Axes>"
      ]
     },
     "metadata": {},
     "output_type": "display_data"
    }
   ],
   "source": [
    "pv_melt = melt.pivot_table(index='variable', values='value')\n",
    "pv_melt.plot(kind='pie', y='value', legend=False)\n",
    "pv_melt"
   ]
  }
 ],
 "metadata": {
  "kernelspec": {
   "display_name": "Python 3",
   "language": "python",
   "name": "python3"
  },
  "language_info": {
   "codemirror_mode": {
    "name": "ipython",
    "version": 3
   },
   "file_extension": ".py",
   "mimetype": "text/x-python",
   "name": "python",
   "nbconvert_exporter": "python",
   "pygments_lexer": "ipython3",
   "version": "3.7.1"
  }
 },
 "nbformat": 4,
 "nbformat_minor": 2
}
